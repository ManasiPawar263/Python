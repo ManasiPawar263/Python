{
 "cells": [
  {
   "cell_type": "markdown",
   "id": "1fa6263a",
   "metadata": {},
   "source": [
    "# Numpy\n",
    "\n",
    "- Numpy is a general purpose array processing package.\n",
    "- Numpy was created to work with multidimensional arrays.\n",
    "- It is the fundamental package for scientific computing with python.\n",
    "- It is open source library."
   ]
  },
  {
   "cell_type": "markdown",
   "id": "05c3250e",
   "metadata": {},
   "source": [
    "**Why use Numpy?**\n",
    "\n",
    "- In python we have list that serves the purpose of arrays, but they are slow in process.\n",
    "- Numpy aims to provide an array object that is upto 50x faster than traditonal python lists.\n",
    "- The array object in numpy is called ndarray, it provides a lot of supporting functions that \n",
    "  make working with ndarray very easy.\n",
    "- Arrays are very frequently used in data science, where speed and resources are very important.  "
   ]
  },
  {
   "cell_type": "code",
   "execution_count": 4,
   "id": "b3b82792",
   "metadata": {
    "ExecuteTime": {
     "end_time": "2022-11-30T10:26:26.964000Z",
     "start_time": "2022-11-30T10:26:24.265186Z"
    }
   },
   "outputs": [
    {
     "name": "stdout",
     "output_type": "stream",
     "text": [
      "Requirement already satisfied: numpy in c:\\users\\manasi pawar\\anaconda3\\lib\\site-packages (1.21.5)\n"
     ]
    }
   ],
   "source": [
    "#Importing necessary library\n",
    "!pip install numpy\n",
    "import numpy as np"
   ]
  },
  {
   "cell_type": "code",
   "execution_count": 7,
   "id": "36925a06",
   "metadata": {
    "ExecuteTime": {
     "end_time": "2022-11-30T10:27:35.285838Z",
     "start_time": "2022-11-30T10:27:35.256759Z"
    }
   },
   "outputs": [
    {
     "data": {
      "text/plain": [
       "numpy.ndarray"
      ]
     },
     "execution_count": 7,
     "metadata": {},
     "output_type": "execute_result"
    }
   ],
   "source": [
    "#Array creation\n",
    "a = np.array(10)\n",
    "type(a)"
   ]
  },
  {
   "cell_type": "code",
   "execution_count": 8,
   "id": "85d65155",
   "metadata": {
    "ExecuteTime": {
     "end_time": "2022-11-30T10:27:54.531966Z",
     "start_time": "2022-11-30T10:27:54.526327Z"
    }
   },
   "outputs": [],
   "source": [
    "#Zero dimensional array"
   ]
  },
  {
   "cell_type": "code",
   "execution_count": 18,
   "id": "1722a4e0",
   "metadata": {
    "ExecuteTime": {
     "end_time": "2022-11-30T10:32:40.422401Z",
     "start_time": "2022-11-30T10:32:40.398468Z"
    }
   },
   "outputs": [
    {
     "data": {
      "text/plain": [
       "0"
      ]
     },
     "execution_count": 18,
     "metadata": {},
     "output_type": "execute_result"
    }
   ],
   "source": [
    "z = np.array(5)\n",
    "z.ndim"
   ]
  },
  {
   "cell_type": "code",
   "execution_count": 13,
   "id": "89e2f692",
   "metadata": {
    "ExecuteTime": {
     "end_time": "2022-11-30T10:29:56.478110Z",
     "start_time": "2022-11-30T10:29:56.463062Z"
    }
   },
   "outputs": [],
   "source": [
    "#One dimensional array"
   ]
  },
  {
   "cell_type": "code",
   "execution_count": 15,
   "id": "8e9fe566",
   "metadata": {
    "ExecuteTime": {
     "end_time": "2022-11-30T10:31:47.743305Z",
     "start_time": "2022-11-30T10:31:47.730401Z"
    }
   },
   "outputs": [
    {
     "data": {
      "text/plain": [
       "1"
      ]
     },
     "execution_count": 15,
     "metadata": {},
     "output_type": "execute_result"
    }
   ],
   "source": [
    "o = np.array([10,56,45,39])\n",
    "o.ndim"
   ]
  },
  {
   "cell_type": "code",
   "execution_count": 19,
   "id": "3344c248",
   "metadata": {
    "ExecuteTime": {
     "end_time": "2022-11-30T10:32:59.092978Z",
     "start_time": "2022-11-30T10:32:59.085503Z"
    }
   },
   "outputs": [],
   "source": [
    "#Two dimensional array"
   ]
  },
  {
   "cell_type": "code",
   "execution_count": 21,
   "id": "5f128432",
   "metadata": {
    "ExecuteTime": {
     "end_time": "2022-11-30T10:33:29.538448Z",
     "start_time": "2022-11-30T10:33:29.516615Z"
    }
   },
   "outputs": [
    {
     "data": {
      "text/plain": [
       "2"
      ]
     },
     "execution_count": 21,
     "metadata": {},
     "output_type": "execute_result"
    }
   ],
   "source": [
    "t = np.array([[10,56,45,34]])\n",
    "t.ndim"
   ]
  },
  {
   "cell_type": "code",
   "execution_count": 22,
   "id": "91ab9ef9",
   "metadata": {
    "ExecuteTime": {
     "end_time": "2022-11-30T10:33:42.693156Z",
     "start_time": "2022-11-30T10:33:42.675773Z"
    }
   },
   "outputs": [],
   "source": [
    "#Three dimensional array"
   ]
  },
  {
   "cell_type": "code",
   "execution_count": 24,
   "id": "430b12cb",
   "metadata": {
    "ExecuteTime": {
     "end_time": "2022-11-30T10:34:29.173586Z",
     "start_time": "2022-11-30T10:34:29.164843Z"
    }
   },
   "outputs": [
    {
     "data": {
      "text/plain": [
       "3"
      ]
     },
     "execution_count": 24,
     "metadata": {},
     "output_type": "execute_result"
    }
   ],
   "source": [
    "d = np.array([[[46,34,78,10]]])\n",
    "d.ndim"
   ]
  },
  {
   "cell_type": "code",
   "execution_count": 25,
   "id": "443a5140",
   "metadata": {
    "ExecuteTime": {
     "end_time": "2022-11-30T10:39:52.407235Z",
     "start_time": "2022-11-30T10:39:52.396084Z"
    }
   },
   "outputs": [],
   "source": [
    "#Change the datatype of the array elements"
   ]
  },
  {
   "cell_type": "code",
   "execution_count": 29,
   "id": "d6acda38",
   "metadata": {
    "ExecuteTime": {
     "end_time": "2022-11-30T10:43:04.212880Z",
     "start_time": "2022-11-30T10:43:04.194430Z"
    }
   },
   "outputs": [
    {
     "data": {
      "text/plain": [
       "dtype('int32')"
      ]
     },
     "execution_count": 29,
     "metadata": {},
     "output_type": "execute_result"
    }
   ],
   "source": [
    "a = np.array([10,40,30,20])\n",
    "a.dtype"
   ]
  },
  {
   "cell_type": "code",
   "execution_count": 27,
   "id": "4c4aa469",
   "metadata": {
    "ExecuteTime": {
     "end_time": "2022-11-30T10:41:41.447967Z",
     "start_time": "2022-11-30T10:41:41.428046Z"
    }
   },
   "outputs": [
    {
     "name": "stdout",
     "output_type": "stream",
     "text": [
      "float64\n"
     ]
    },
    {
     "data": {
      "text/plain": [
       "array([10., 40., 30., 20.])"
      ]
     },
     "execution_count": 27,
     "metadata": {},
     "output_type": "execute_result"
    }
   ],
   "source": [
    "a = np.array([10,40,30,20], dtype = 'float')\n",
    "print(a.dtype)\n",
    "a"
   ]
  },
  {
   "cell_type": "markdown",
   "id": "c9956113",
   "metadata": {},
   "source": [
    "# Other ways of creating an array\n",
    "\n",
    "1. arange\n",
    "2. linspace\n",
    "3. zeros\n",
    "4. ones\n",
    "5. random"
   ]
  },
  {
   "cell_type": "code",
   "execution_count": null,
   "id": "4c60ec27",
   "metadata": {},
   "outputs": [],
   "source": [
    "#arange"
   ]
  },
  {
   "cell_type": "code",
   "execution_count": 31,
   "id": "c09a44de",
   "metadata": {
    "ExecuteTime": {
     "end_time": "2022-11-30T10:57:47.376927Z",
     "start_time": "2022-11-30T10:57:47.363296Z"
    }
   },
   "outputs": [
    {
     "data": {
      "text/plain": [
       "array([ 1,  3,  5,  7,  9, 11, 13, 15, 17, 19])"
      ]
     },
     "execution_count": 31,
     "metadata": {},
     "output_type": "execute_result"
    }
   ],
   "source": [
    "a = np.arange(1,21,2)\n",
    "a           #start,stop,step"
   ]
  },
  {
   "cell_type": "code",
   "execution_count": null,
   "id": "3fbac22c",
   "metadata": {},
   "outputs": [],
   "source": [
    "#linspace"
   ]
  },
  {
   "cell_type": "code",
   "execution_count": 33,
   "id": "82290943",
   "metadata": {
    "ExecuteTime": {
     "end_time": "2022-11-30T11:01:50.281468Z",
     "start_time": "2022-11-30T11:01:50.254368Z"
    }
   },
   "outputs": [
    {
     "data": {
      "text/plain": [
       "(array([1. , 1.5, 2. , 2.5, 3. , 3.5, 4. , 4.5, 5. , 5.5, 6. , 6.5, 7. ,\n",
       "        7.5, 8. ]),\n",
       " 0.5)"
      ]
     },
     "execution_count": 33,
     "metadata": {},
     "output_type": "execute_result"
    }
   ],
   "source": [
    "b = np.linspace(1,8,15, retstep = True)      #retstep will show the difference between two values\n",
    "b"
   ]
  },
  {
   "cell_type": "code",
   "execution_count": 34,
   "id": "93b3fb83",
   "metadata": {
    "ExecuteTime": {
     "end_time": "2022-11-30T11:02:48.917649Z",
     "start_time": "2022-11-30T11:02:48.902771Z"
    }
   },
   "outputs": [],
   "source": [
    "#Zeros"
   ]
  },
  {
   "cell_type": "code",
   "execution_count": 36,
   "id": "32ccfef4",
   "metadata": {
    "ExecuteTime": {
     "end_time": "2022-11-30T11:05:02.762340Z",
     "start_time": "2022-11-30T11:05:02.745760Z"
    }
   },
   "outputs": [
    {
     "data": {
      "text/plain": [
       "array([[0., 0.],\n",
       "       [0., 0.]])"
      ]
     },
     "execution_count": 36,
     "metadata": {},
     "output_type": "execute_result"
    }
   ],
   "source": [
    "z = np.zeros([2,2])\n",
    "z"
   ]
  },
  {
   "cell_type": "code",
   "execution_count": 37,
   "id": "f113d376",
   "metadata": {
    "ExecuteTime": {
     "end_time": "2022-11-30T11:05:08.473897Z",
     "start_time": "2022-11-30T11:05:08.457411Z"
    }
   },
   "outputs": [],
   "source": [
    "#Ones"
   ]
  },
  {
   "cell_type": "code",
   "execution_count": 39,
   "id": "795b0178",
   "metadata": {
    "ExecuteTime": {
     "end_time": "2022-11-30T11:05:40.692541Z",
     "start_time": "2022-11-30T11:05:40.669767Z"
    }
   },
   "outputs": [
    {
     "data": {
      "text/plain": [
       "array([[1., 1., 1., 1.],\n",
       "       [1., 1., 1., 1.],\n",
       "       [1., 1., 1., 1.],\n",
       "       [1., 1., 1., 1.]])"
      ]
     },
     "execution_count": 39,
     "metadata": {},
     "output_type": "execute_result"
    }
   ],
   "source": [
    "o = np.ones([4,4])\n",
    "o"
   ]
  },
  {
   "cell_type": "code",
   "execution_count": 40,
   "id": "209fcf5a",
   "metadata": {
    "ExecuteTime": {
     "end_time": "2022-11-30T11:05:47.771852Z",
     "start_time": "2022-11-30T11:05:47.764240Z"
    }
   },
   "outputs": [],
   "source": [
    "#random"
   ]
  },
  {
   "cell_type": "code",
   "execution_count": 41,
   "id": "f6159c3d",
   "metadata": {
    "ExecuteTime": {
     "end_time": "2022-11-30T11:07:05.327895Z",
     "start_time": "2022-11-30T11:07:05.311281Z"
    }
   },
   "outputs": [
    {
     "data": {
      "text/plain": [
       "array([[0.12527226, 0.03416618],\n",
       "       [0.3761874 , 0.4061012 ],\n",
       "       [0.1163049 , 0.45213311],\n",
       "       [0.32836502, 0.81190743],\n",
       "       [0.34493741, 0.4492669 ]])"
      ]
     },
     "execution_count": 41,
     "metadata": {},
     "output_type": "execute_result"
    }
   ],
   "source": [
    "r = np.random.rand(5,2)\n",
    "r"
   ]
  },
  {
   "cell_type": "code",
   "execution_count": 43,
   "id": "f834a2e5",
   "metadata": {
    "ExecuteTime": {
     "end_time": "2022-11-30T11:09:17.548248Z",
     "start_time": "2022-11-30T11:09:17.530863Z"
    }
   },
   "outputs": [
    {
     "data": {
      "text/plain": [
       "array([1, 4, 2, 3, 1, 2, 1, 2, 0, 1])"
      ]
     },
     "execution_count": 43,
     "metadata": {},
     "output_type": "execute_result"
    }
   ],
   "source": [
    "r = np.random.randint(5,size = 10)   #Return random integers from low(inclusive) to high(exclusive)\n",
    "r"
   ]
  },
  {
   "cell_type": "markdown",
   "id": "5e358215",
   "metadata": {},
   "source": [
    "# Slicing and indexing of arrays"
   ]
  },
  {
   "cell_type": "code",
   "execution_count": 45,
   "id": "3b91614d",
   "metadata": {
    "ExecuteTime": {
     "end_time": "2022-11-30T11:21:16.479639Z",
     "start_time": "2022-11-30T11:21:16.464072Z"
    }
   },
   "outputs": [
    {
     "data": {
      "text/plain": [
       "array([[1, 2, 3],\n",
       "       [4, 5, 6]])"
      ]
     },
     "execution_count": 45,
     "metadata": {},
     "output_type": "execute_result"
    }
   ],
   "source": [
    "s = np.array([[1,2,3],[4,5,6]])\n",
    "s"
   ]
  },
  {
   "cell_type": "code",
   "execution_count": 47,
   "id": "0df4c6ec",
   "metadata": {
    "ExecuteTime": {
     "end_time": "2022-11-30T11:22:44.522444Z",
     "start_time": "2022-11-30T11:22:44.502822Z"
    }
   },
   "outputs": [
    {
     "data": {
      "text/plain": [
       "1"
      ]
     },
     "execution_count": 47,
     "metadata": {},
     "output_type": "execute_result"
    }
   ],
   "source": [
    "# 1\n",
    "s[0,0]"
   ]
  },
  {
   "cell_type": "code",
   "execution_count": 49,
   "id": "15ec9b5c",
   "metadata": {
    "ExecuteTime": {
     "end_time": "2022-11-30T11:23:26.030984Z",
     "start_time": "2022-11-30T11:23:26.011506Z"
    }
   },
   "outputs": [
    {
     "data": {
      "text/plain": [
       "6"
      ]
     },
     "execution_count": 49,
     "metadata": {},
     "output_type": "execute_result"
    }
   ],
   "source": [
    "# 6 \n",
    "s[1,2]"
   ]
  },
  {
   "cell_type": "code",
   "execution_count": 50,
   "id": "a9a4bafd",
   "metadata": {
    "ExecuteTime": {
     "end_time": "2022-11-30T11:24:02.529107Z",
     "start_time": "2022-11-30T11:24:02.510887Z"
    }
   },
   "outputs": [
    {
     "data": {
      "text/plain": [
       "array([2, 3])"
      ]
     },
     "execution_count": 50,
     "metadata": {},
     "output_type": "execute_result"
    }
   ],
   "source": [
    "# 2 and 3\n",
    "s[0,1:]"
   ]
  },
  {
   "cell_type": "code",
   "execution_count": 51,
   "id": "5f922df4",
   "metadata": {
    "ExecuteTime": {
     "end_time": "2022-11-30T11:24:57.480022Z",
     "start_time": "2022-11-30T11:24:57.465194Z"
    }
   },
   "outputs": [
    {
     "data": {
      "text/plain": [
       "array([[2, 3],\n",
       "       [5, 6]])"
      ]
     },
     "execution_count": 51,
     "metadata": {},
     "output_type": "execute_result"
    }
   ],
   "source": [
    "# 2,3 and 5,6\n",
    "s[0:,1:]"
   ]
  },
  {
   "cell_type": "code",
   "execution_count": 52,
   "id": "037623ee",
   "metadata": {
    "ExecuteTime": {
     "end_time": "2022-11-30T11:25:52.109151Z",
     "start_time": "2022-11-30T11:25:52.092687Z"
    }
   },
   "outputs": [
    {
     "data": {
      "text/plain": [
       "array([1, 6])"
      ]
     },
     "execution_count": 52,
     "metadata": {},
     "output_type": "execute_result"
    }
   ],
   "source": [
    "# 1 and 6\n",
    "s[[0,1],[0,2]]"
   ]
  },
  {
   "cell_type": "code",
   "execution_count": 54,
   "id": "150d1492",
   "metadata": {
    "ExecuteTime": {
     "end_time": "2022-11-30T11:27:03.189732Z",
     "start_time": "2022-11-30T11:27:03.172511Z"
    }
   },
   "outputs": [
    {
     "data": {
      "text/plain": [
       "array([3, 4])"
      ]
     },
     "execution_count": 54,
     "metadata": {},
     "output_type": "execute_result"
    }
   ],
   "source": [
    "# 3 and 4\n",
    "s[[0,1],[2,0]]"
   ]
  },
  {
   "cell_type": "markdown",
   "id": "9398bf01",
   "metadata": {},
   "source": [
    "# Reshaping the array"
   ]
  },
  {
   "cell_type": "code",
   "execution_count": 56,
   "id": "e8154b71",
   "metadata": {
    "ExecuteTime": {
     "end_time": "2022-11-30T11:50:13.632292Z",
     "start_time": "2022-11-30T11:50:13.607922Z"
    }
   },
   "outputs": [
    {
     "data": {
      "text/plain": [
       "array([[0.47253555, 0.76961395],\n",
       "       [0.31053768, 0.75085584],\n",
       "       [0.36650025, 0.78966292],\n",
       "       [0.24122576, 0.55465967],\n",
       "       [0.4139251 , 0.38260344]])"
      ]
     },
     "execution_count": 56,
     "metadata": {},
     "output_type": "execute_result"
    }
   ],
   "source": [
    "r = np.random.rand(5,2)\n",
    "r"
   ]
  },
  {
   "cell_type": "code",
   "execution_count": 58,
   "id": "68bd65d2",
   "metadata": {
    "ExecuteTime": {
     "end_time": "2022-11-30T11:51:11.726243Z",
     "start_time": "2022-11-30T11:51:11.707488Z"
    }
   },
   "outputs": [
    {
     "data": {
      "text/plain": [
       "array([[0.47253555, 0.76961395, 0.31053768, 0.75085584, 0.36650025],\n",
       "       [0.78966292, 0.24122576, 0.55465967, 0.4139251 , 0.38260344]])"
      ]
     },
     "execution_count": 58,
     "metadata": {},
     "output_type": "execute_result"
    }
   ],
   "source": [
    "r.reshape(2,5)"
   ]
  },
  {
   "cell_type": "code",
   "execution_count": 60,
   "id": "2ce67e43",
   "metadata": {
    "ExecuteTime": {
     "end_time": "2022-11-30T11:51:34.839138Z",
     "start_time": "2022-11-30T11:51:34.824587Z"
    }
   },
   "outputs": [
    {
     "data": {
      "text/plain": [
       "array([[0.47253555],\n",
       "       [0.76961395],\n",
       "       [0.31053768],\n",
       "       [0.75085584],\n",
       "       [0.36650025],\n",
       "       [0.78966292],\n",
       "       [0.24122576],\n",
       "       [0.55465967],\n",
       "       [0.4139251 ],\n",
       "       [0.38260344]])"
      ]
     },
     "execution_count": 60,
     "metadata": {},
     "output_type": "execute_result"
    }
   ],
   "source": [
    "r.reshape(10,1)"
   ]
  },
  {
   "cell_type": "code",
   "execution_count": 62,
   "id": "5f105423",
   "metadata": {
    "ExecuteTime": {
     "end_time": "2022-11-30T11:51:58.488842Z",
     "start_time": "2022-11-30T11:51:58.462602Z"
    }
   },
   "outputs": [
    {
     "data": {
      "text/plain": [
       "array([[0.47253555, 0.76961395, 0.31053768, 0.75085584, 0.36650025,\n",
       "        0.78966292, 0.24122576, 0.55465967, 0.4139251 , 0.38260344]])"
      ]
     },
     "execution_count": 62,
     "metadata": {},
     "output_type": "execute_result"
    }
   ],
   "source": [
    "r.reshape(1,10)"
   ]
  },
  {
   "cell_type": "code",
   "execution_count": 64,
   "id": "c291ff66",
   "metadata": {
    "ExecuteTime": {
     "end_time": "2022-11-30T11:53:30.774250Z",
     "start_time": "2022-11-30T11:53:30.757989Z"
    }
   },
   "outputs": [
    {
     "data": {
      "text/plain": [
       "array([[0.47253555, 0.76961395],\n",
       "       [0.31053768, 0.75085584],\n",
       "       [0.36650025, 0.78966292],\n",
       "       [0.24122576, 0.55465967],\n",
       "       [0.4139251 , 0.38260344]])"
      ]
     },
     "execution_count": 64,
     "metadata": {},
     "output_type": "execute_result"
    }
   ],
   "source": [
    "r.reshape(5,-1)"
   ]
  },
  {
   "cell_type": "markdown",
   "id": "40d63ed4",
   "metadata": {},
   "source": [
    "# Aggregate function\n",
    "\n",
    "- The python numpy aggregate functions are sum, min, max, mean, average, product, median, standard \n",
    "  deviation, variance, percentile, and corelation coefficent"
   ]
  },
  {
   "cell_type": "code",
   "execution_count": 65,
   "id": "935daac1",
   "metadata": {
    "ExecuteTime": {
     "end_time": "2022-11-30T12:02:18.791618Z",
     "start_time": "2022-11-30T12:02:18.767594Z"
    }
   },
   "outputs": [
    {
     "data": {
      "text/plain": [
       "0.2412257578230046"
      ]
     },
     "execution_count": 65,
     "metadata": {},
     "output_type": "execute_result"
    }
   ],
   "source": [
    "r.min()"
   ]
  },
  {
   "cell_type": "code",
   "execution_count": 67,
   "id": "eb9b4207",
   "metadata": {
    "ExecuteTime": {
     "end_time": "2022-11-30T12:02:37.452814Z",
     "start_time": "2022-11-30T12:02:37.433056Z"
    }
   },
   "outputs": [
    {
     "data": {
      "text/plain": [
       "0.7896629186276896"
      ]
     },
     "execution_count": 67,
     "metadata": {},
     "output_type": "execute_result"
    }
   ],
   "source": [
    "r.max()"
   ]
  },
  {
   "cell_type": "code",
   "execution_count": 69,
   "id": "efc51668",
   "metadata": {
    "ExecuteTime": {
     "end_time": "2022-11-30T12:02:48.120268Z",
     "start_time": "2022-11-30T12:02:48.101594Z"
    }
   },
   "outputs": [
    {
     "data": {
      "text/plain": [
       "0.5052120144118507"
      ]
     },
     "execution_count": 69,
     "metadata": {},
     "output_type": "execute_result"
    }
   ],
   "source": [
    "r.mean()"
   ]
  },
  {
   "cell_type": "code",
   "execution_count": 71,
   "id": "8f19775c",
   "metadata": {
    "ExecuteTime": {
     "end_time": "2022-11-30T12:03:26.863989Z",
     "start_time": "2022-11-30T12:03:26.840585Z"
    }
   },
   "outputs": [
    {
     "data": {
      "text/plain": [
       "0.19101527901298246"
      ]
     },
     "execution_count": 71,
     "metadata": {},
     "output_type": "execute_result"
    }
   ],
   "source": [
    "r.std()"
   ]
  },
  {
   "cell_type": "code",
   "execution_count": 72,
   "id": "58712c6d",
   "metadata": {
    "ExecuteTime": {
     "end_time": "2022-11-30T12:03:42.698791Z",
     "start_time": "2022-11-30T12:03:42.674995Z"
    }
   },
   "outputs": [
    {
     "data": {
      "text/plain": [
       "0.03648683681640754"
      ]
     },
     "execution_count": 72,
     "metadata": {},
     "output_type": "execute_result"
    }
   ],
   "source": [
    "r.var()"
   ]
  },
  {
   "cell_type": "markdown",
   "id": "ea49500b",
   "metadata": {},
   "source": [
    "# Stacking\n",
    "\n",
    "- Stacking is used to join two different array\n",
    "- Vertical stacking\n",
    "- Horizontal stacking"
   ]
  },
  {
   "cell_type": "code",
   "execution_count": 75,
   "id": "7ebb3af1",
   "metadata": {
    "ExecuteTime": {
     "end_time": "2022-11-30T12:12:33.832252Z",
     "start_time": "2022-11-30T12:12:33.816422Z"
    }
   },
   "outputs": [],
   "source": [
    "a = np.array([1,23,43,2])\n",
    "b = np.array([2,45,67,23])"
   ]
  },
  {
   "cell_type": "code",
   "execution_count": 77,
   "id": "5802a18f",
   "metadata": {
    "ExecuteTime": {
     "end_time": "2022-11-30T12:13:06.367168Z",
     "start_time": "2022-11-30T12:13:06.346037Z"
    }
   },
   "outputs": [
    {
     "data": {
      "text/plain": [
       "array([ 1, 23, 43,  2,  2, 45, 67, 23])"
      ]
     },
     "execution_count": 77,
     "metadata": {},
     "output_type": "execute_result"
    }
   ],
   "source": [
    "np.hstack([a,b])"
   ]
  },
  {
   "cell_type": "code",
   "execution_count": 78,
   "id": "938958be",
   "metadata": {
    "ExecuteTime": {
     "end_time": "2022-11-30T12:13:20.600739Z",
     "start_time": "2022-11-30T12:13:20.587628Z"
    }
   },
   "outputs": [
    {
     "data": {
      "text/plain": [
       "array([[ 1, 23, 43,  2],\n",
       "       [ 2, 45, 67, 23]])"
      ]
     },
     "execution_count": 78,
     "metadata": {},
     "output_type": "execute_result"
    }
   ],
   "source": [
    "np.vstack([a,b])"
   ]
  }
 ],
 "metadata": {
  "kernelspec": {
   "display_name": "Python 3 (ipykernel)",
   "language": "python",
   "name": "python3"
  },
  "language_info": {
   "codemirror_mode": {
    "name": "ipython",
    "version": 3
   },
   "file_extension": ".py",
   "mimetype": "text/x-python",
   "name": "python",
   "nbconvert_exporter": "python",
   "pygments_lexer": "ipython3",
   "version": "3.9.13"
  }
 },
 "nbformat": 4,
 "nbformat_minor": 5
}
