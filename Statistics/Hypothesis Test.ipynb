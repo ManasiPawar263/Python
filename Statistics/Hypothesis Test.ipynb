{
 "cells": [
  {
   "cell_type": "code",
   "execution_count": 30,
   "id": "777fe397",
   "metadata": {
    "ExecuteTime": {
     "end_time": "2022-12-13T11:19:16.393108Z",
     "start_time": "2022-12-13T11:19:16.372818Z"
    }
   },
   "outputs": [],
   "source": [
    "#Import libraries\n",
    "import pandas as pd \n",
    "import numpy as np\n",
    "from scipy import stats"
   ]
  },
  {
   "cell_type": "markdown",
   "id": "a06498dc",
   "metadata": {},
   "source": [
    "# One Tail Test"
   ]
  },
  {
   "cell_type": "code",
   "execution_count": 15,
   "id": "3fea7dc6",
   "metadata": {
    "ExecuteTime": {
     "end_time": "2022-12-13T10:41:11.452401Z",
     "start_time": "2022-12-13T10:41:11.432583Z"
    }
   },
   "outputs": [],
   "source": [
    "#An outbreak of Salmonella-related illness was attributed to ice cream produced at certain factory.\n",
    "#Scientist measured the level of salmonella in 9 randomly sampled batches of ice cream. The levels\n",
    "#(in MPN/g) were, 0.593,0.142,0.329,0.691,0.231,0.793,0.519,0.392,0.418 Is there evidence that the \n",
    "#mean level of salmonella in the ice cream is greater than 0.3 MPN/g?"
   ]
  },
  {
   "cell_type": "code",
   "execution_count": 31,
   "id": "c88a075b",
   "metadata": {
    "ExecuteTime": {
     "end_time": "2022-12-13T11:19:19.314292Z",
     "start_time": "2022-12-13T11:19:19.278588Z"
    }
   },
   "outputs": [
    {
     "data": {
      "text/plain": [
       "0    0.593\n",
       "1    0.142\n",
       "2    0.329\n",
       "3    0.691\n",
       "4    0.231\n",
       "5    0.793\n",
       "6    0.519\n",
       "7    0.392\n",
       "8    0.418\n",
       "dtype: float64"
      ]
     },
     "execution_count": 31,
     "metadata": {},
     "output_type": "execute_result"
    }
   ],
   "source": [
    "data = pd.Series([0.593,0.142,0.329,0.691,0.231,0.793,0.519,0.392,0.418])\n",
    "data"
   ]
  },
  {
   "cell_type": "code",
   "execution_count": 32,
   "id": "7a8780f6",
   "metadata": {
    "ExecuteTime": {
     "end_time": "2022-12-13T11:19:22.107146Z",
     "start_time": "2022-12-13T11:19:22.086630Z"
    }
   },
   "outputs": [
    {
     "data": {
      "text/plain": [
       "Ttest_1sampResult(statistic=2.2050588385131595, pvalue=0.05853032968489765)"
      ]
     },
     "execution_count": 32,
     "metadata": {},
     "output_type": "execute_result"
    }
   ],
   "source": [
    "stats.ttest_1samp(data,0.3)"
   ]
  },
  {
   "cell_type": "code",
   "execution_count": 33,
   "id": "79e94799",
   "metadata": {
    "ExecuteTime": {
     "end_time": "2022-12-13T11:19:24.523164Z",
     "start_time": "2022-12-13T11:19:24.493865Z"
    }
   },
   "outputs": [
    {
     "data": {
      "text/plain": [
       "0.029265164842448826"
      ]
     },
     "execution_count": 33,
     "metadata": {},
     "output_type": "execute_result"
    }
   ],
   "source": [
    "#This gives two tail test p value so divide by 2 to get final p-value\n",
    "s,p = scipy.stats.ttest_1samp(data,0.3)\n",
    "p_value = p/2\n",
    "p_value"
   ]
  },
  {
   "cell_type": "markdown",
   "id": "a7a7b668",
   "metadata": {},
   "source": [
    "# Two Tail Test"
   ]
  },
  {
   "cell_type": "code",
   "execution_count": 24,
   "id": "1b454fb0",
   "metadata": {
    "ExecuteTime": {
     "end_time": "2022-12-13T11:16:59.726496Z",
     "start_time": "2022-12-13T11:16:59.715090Z"
    }
   },
   "outputs": [],
   "source": [
    "# 6 subjects were given a drug (treatment group) and an additional 6 subjects a placebo(control group)\n",
    "# Their reaction time to stimulus was measured (in ms). We want to perform a two-sample test for \n",
    "# comparing the means of the treatment and control groups.\n",
    "\n",
    "#Control = 91,87,99,77,88,91\n",
    "#Treat = 101,110,103,93,99,104"
   ]
  },
  {
   "cell_type": "code",
   "execution_count": 27,
   "id": "75daccb0",
   "metadata": {
    "ExecuteTime": {
     "end_time": "2022-12-13T11:18:48.620706Z",
     "start_time": "2022-12-13T11:18:48.601023Z"
    }
   },
   "outputs": [],
   "source": [
    "Control = pd.Series([91,87,99,77,88,91])\n",
    "Treat = pd.Series([101,110,103,93,99,104])"
   ]
  },
  {
   "cell_type": "code",
   "execution_count": 28,
   "id": "482f44b9",
   "metadata": {
    "ExecuteTime": {
     "end_time": "2022-12-13T11:18:51.083277Z",
     "start_time": "2022-12-13T11:18:51.058757Z"
    }
   },
   "outputs": [
    {
     "data": {
      "text/plain": [
       "Ttest_indResult(statistic=-3.4456126735364876, pvalue=0.006272124350809803)"
      ]
     },
     "execution_count": 28,
     "metadata": {},
     "output_type": "execute_result"
    }
   ],
   "source": [
    "stats.ttest_ind(Control,Treat)"
   ]
  },
  {
   "cell_type": "markdown",
   "id": "74139052",
   "metadata": {},
   "source": [
    "# Two Proportion Test"
   ]
  },
  {
   "cell_type": "code",
   "execution_count": 34,
   "id": "7cfd5510",
   "metadata": {
    "ExecuteTime": {
     "end_time": "2022-12-13T11:41:04.381286Z",
     "start_time": "2022-12-13T11:41:04.368166Z"
    }
   },
   "outputs": [],
   "source": [
    "#Data\n",
    "\n",
    "n1 = 247\n",
    "p1 = .37\n",
    "\n",
    "n2 = 308 \n",
    "p2 = .39"
   ]
  },
  {
   "cell_type": "code",
   "execution_count": 36,
   "id": "583f8fba",
   "metadata": {
    "ExecuteTime": {
     "end_time": "2022-12-13T11:42:24.474411Z",
     "start_time": "2022-12-13T11:42:24.464287Z"
    }
   },
   "outputs": [],
   "source": [
    "population1 = np.random.binomial(1, p1 ,n1)\n",
    "population2 = np.random.binomial(1, p2 ,n2)"
   ]
  },
  {
   "cell_type": "code",
   "execution_count": 38,
   "id": "fd55c0e7",
   "metadata": {
    "ExecuteTime": {
     "end_time": "2022-12-13T11:42:30.165685Z",
     "start_time": "2022-12-13T11:42:30.145203Z"
    }
   },
   "outputs": [
    {
     "data": {
      "text/plain": [
       "array([0, 0, 0, 0, 0, 0, 0, 0, 1, 1, 1, 0, 0, 0, 1, 0, 0, 0, 0, 1, 1, 0,\n",
       "       0, 0, 1, 0, 1, 1, 1, 0, 1, 1, 1, 0, 0, 1, 0, 1, 1, 1, 0, 0, 1, 0,\n",
       "       1, 1, 1, 1, 0, 1, 0, 1, 0, 0, 0, 0, 1, 0, 1, 0, 1, 0, 0, 0, 1, 1,\n",
       "       0, 0, 0, 0, 1, 1, 0, 1, 0, 0, 0, 0, 0, 0, 0, 0, 0, 1, 0, 0, 0, 1,\n",
       "       1, 0, 0, 0, 1, 0, 0, 0, 0, 1, 0, 1, 1, 0, 1, 0, 1, 0, 0, 0, 1, 0,\n",
       "       1, 0, 1, 0, 0, 0, 0, 0, 1, 0, 1, 1, 0, 0, 0, 0, 1, 0, 0, 0, 0, 1,\n",
       "       1, 0, 0, 0, 0, 0, 0, 1, 1, 1, 1, 0, 0, 0, 1, 0, 0, 1, 1, 0, 1, 0,\n",
       "       0, 0, 1, 0, 0, 0, 0, 1, 1, 0, 1, 1, 1, 0, 0, 0, 0, 0, 1, 0, 0, 0,\n",
       "       0, 1, 0, 0, 0, 1, 1, 0, 1, 0, 0, 1, 0, 0, 1, 1, 0, 1, 0, 1, 0, 0,\n",
       "       1, 0, 1, 0, 1, 0, 0, 1, 0, 0, 0, 1, 0, 0, 1, 1, 0, 0, 1, 0, 1, 0,\n",
       "       0, 0, 1, 0, 1, 0, 0, 1, 0, 0, 0, 0, 0, 0, 0, 0, 1, 0, 1, 0, 1, 1,\n",
       "       0, 0, 0, 0, 0])"
      ]
     },
     "execution_count": 38,
     "metadata": {},
     "output_type": "execute_result"
    }
   ],
   "source": [
    "population1"
   ]
  },
  {
   "cell_type": "code",
   "execution_count": 40,
   "id": "d57ccb37",
   "metadata": {
    "ExecuteTime": {
     "end_time": "2022-12-13T11:43:17.845947Z",
     "start_time": "2022-12-13T11:43:17.825498Z"
    }
   },
   "outputs": [
    {
     "data": {
      "text/plain": [
       "0.3643724696356275"
      ]
     },
     "execution_count": 40,
     "metadata": {},
     "output_type": "execute_result"
    }
   ],
   "source": [
    "population1.mean()"
   ]
  },
  {
   "cell_type": "code",
   "execution_count": 42,
   "id": "4bd7a77a",
   "metadata": {
    "ExecuteTime": {
     "end_time": "2022-12-13T11:43:27.533828Z",
     "start_time": "2022-12-13T11:43:27.515412Z"
    }
   },
   "outputs": [
    {
     "data": {
      "text/plain": [
       "0.41233766233766234"
      ]
     },
     "execution_count": 42,
     "metadata": {},
     "output_type": "execute_result"
    }
   ],
   "source": [
    "population2.mean()"
   ]
  },
  {
   "cell_type": "code",
   "execution_count": 43,
   "id": "0d1c90d1",
   "metadata": {
    "ExecuteTime": {
     "end_time": "2022-12-13T11:47:26.520476Z",
     "start_time": "2022-12-13T11:47:24.669233Z"
    }
   },
   "outputs": [
    {
     "data": {
      "text/plain": [
       "(-1.150120046116748, 0.25059154731276034, 553.0)"
      ]
     },
     "execution_count": 43,
     "metadata": {},
     "output_type": "execute_result"
    }
   ],
   "source": [
    "import statsmodels.api as sm\n",
    "sm.stats.ttest_ind(population1, population2)"
   ]
  }
 ],
 "metadata": {
  "kernelspec": {
   "display_name": "Python 3 (ipykernel)",
   "language": "python",
   "name": "python3"
  },
  "language_info": {
   "codemirror_mode": {
    "name": "ipython",
    "version": 3
   },
   "file_extension": ".py",
   "mimetype": "text/x-python",
   "name": "python",
   "nbconvert_exporter": "python",
   "pygments_lexer": "ipython3",
   "version": "3.9.13"
  }
 },
 "nbformat": 4,
 "nbformat_minor": 5
}
