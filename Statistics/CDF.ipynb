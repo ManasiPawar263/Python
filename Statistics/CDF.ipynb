{
 "cells": [
  {
   "cell_type": "markdown",
   "id": "7c6ee53f",
   "metadata": {},
   "source": [
    "# Cumulative Distibution Function (CDF)\n",
    "\n",
    "- The CDF of a random variable 'X' may be defined as the probability that the random variable 'X' takes a value \"less than or equal to x\".\n",
    "\n",
    "\n",
    "**Formula**:\n",
    "\n",
    "   FX(x) = P(X ≤ x)\n",
    "   \n",
    "    Fx(x)  =  function of x\n",
    "    X\t  =  real value variable\n",
    "    P\t  =  probability that X will have a value less than or equal to x"
   ]
  },
  {
   "cell_type": "code",
   "execution_count": 2,
   "id": "f114b492",
   "metadata": {
    "ExecuteTime": {
     "end_time": "2022-12-08T10:29:28.433723Z",
     "start_time": "2022-12-08T10:29:25.942107Z"
    }
   },
   "outputs": [],
   "source": [
    "from scipy import stats"
   ]
  },
  {
   "cell_type": "code",
   "execution_count": null,
   "id": "589b7247",
   "metadata": {},
   "outputs": [],
   "source": [
    "#Find the probability that normally distributed random variable has a mean of 60 & std of 10 we want\n",
    "#to find the probability that X is less than 70"
   ]
  },
  {
   "cell_type": "code",
   "execution_count": 3,
   "id": "32374fcd",
   "metadata": {
    "ExecuteTime": {
     "end_time": "2022-12-08T10:29:28.470954Z",
     "start_time": "2022-12-08T10:29:28.439648Z"
    }
   },
   "outputs": [
    {
     "data": {
      "text/plain": [
       "0.8413447460685429"
      ]
     },
     "execution_count": 3,
     "metadata": {},
     "output_type": "execute_result"
    }
   ],
   "source": [
    "stats.norm.cdf(70,60,10)"
   ]
  },
  {
   "cell_type": "code",
   "execution_count": 4,
   "id": "6f13bb11",
   "metadata": {
    "ExecuteTime": {
     "end_time": "2022-12-07T13:00:52.592691Z",
     "start_time": "2022-12-07T13:00:52.586534Z"
    }
   },
   "outputs": [],
   "source": [
    "#Find the probability that X is greater than 70"
   ]
  },
  {
   "cell_type": "code",
   "execution_count": 4,
   "id": "fc23d0b2",
   "metadata": {
    "ExecuteTime": {
     "end_time": "2022-12-08T10:29:31.428804Z",
     "start_time": "2022-12-08T10:29:31.401087Z"
    }
   },
   "outputs": [
    {
     "data": {
      "text/plain": [
       "0.15865525393145707"
      ]
     },
     "execution_count": 4,
     "metadata": {},
     "output_type": "execute_result"
    }
   ],
   "source": [
    "1 - stats.norm.cdf(70,60,10)"
   ]
  },
  {
   "cell_type": "code",
   "execution_count": 5,
   "id": "9e923b03",
   "metadata": {
    "ExecuteTime": {
     "end_time": "2022-12-08T10:40:27.044793Z",
     "start_time": "2022-12-08T10:40:27.031440Z"
    }
   },
   "outputs": [],
   "source": [
    "#GMAT scores can be resonably modeled using a normal distribution  μ = 711 and σ = 29, what is\n",
    "# P(X ≤ 680)?"
   ]
  },
  {
   "cell_type": "code",
   "execution_count": 7,
   "id": "00a507d4",
   "metadata": {
    "ExecuteTime": {
     "end_time": "2022-12-08T10:42:59.383439Z",
     "start_time": "2022-12-08T10:42:59.370047Z"
    }
   },
   "outputs": [
    {
     "data": {
      "text/plain": [
       "0.14254260383881612"
      ]
     },
     "execution_count": 7,
     "metadata": {},
     "output_type": "execute_result"
    }
   ],
   "source": [
    "stats.norm.cdf(680,711,29)"
   ]
  },
  {
   "cell_type": "code",
   "execution_count": 8,
   "id": "7fcab927",
   "metadata": {
    "ExecuteTime": {
     "end_time": "2022-12-08T10:44:18.958258Z",
     "start_time": "2022-12-08T10:44:18.943129Z"
    }
   },
   "outputs": [],
   "source": [
    "#Probability that X is greater than or equal to 680"
   ]
  },
  {
   "cell_type": "code",
   "execution_count": 10,
   "id": "f3c1d5ad",
   "metadata": {
    "ExecuteTime": {
     "end_time": "2022-12-08T10:45:35.378987Z",
     "start_time": "2022-12-08T10:45:35.348615Z"
    }
   },
   "outputs": [
    {
     "data": {
      "text/plain": [
       "0.8574573961611839"
      ]
     },
     "execution_count": 10,
     "metadata": {},
     "output_type": "execute_result"
    }
   ],
   "source": [
    "1 - stats.norm.cdf(680, loc = 711, scale = 29)"
   ]
  },
  {
   "cell_type": "code",
   "execution_count": 19,
   "id": "71f526ae",
   "metadata": {
    "ExecuteTime": {
     "end_time": "2022-12-08T11:07:50.618774Z",
     "start_time": "2022-12-08T11:07:50.596011Z"
    }
   },
   "outputs": [],
   "source": [
    "#What is P(697 ≤ X ≤ 740)? means which value is lie between these two value"
   ]
  },
  {
   "cell_type": "code",
   "execution_count": 16,
   "id": "1c8c7d6d",
   "metadata": {
    "ExecuteTime": {
     "end_time": "2022-12-08T11:06:31.730486Z",
     "start_time": "2022-12-08T11:06:31.706964Z"
    }
   },
   "outputs": [
    {
     "data": {
      "text/plain": [
       "0.8413447460685429"
      ]
     },
     "execution_count": 16,
     "metadata": {},
     "output_type": "execute_result"
    }
   ],
   "source": [
    "stats.norm.cdf(740,711,29)"
   ]
  },
  {
   "cell_type": "code",
   "execution_count": 17,
   "id": "829b3cb4",
   "metadata": {
    "ExecuteTime": {
     "end_time": "2022-12-08T11:06:34.294577Z",
     "start_time": "2022-12-08T11:06:34.276625Z"
    }
   },
   "outputs": [
    {
     "data": {
      "text/plain": [
       "0.31463356742704107"
      ]
     },
     "execution_count": 17,
     "metadata": {},
     "output_type": "execute_result"
    }
   ],
   "source": [
    "stats.norm.cdf(697,711,29)"
   ]
  },
  {
   "cell_type": "code",
   "execution_count": 18,
   "id": "a8934313",
   "metadata": {
    "ExecuteTime": {
     "end_time": "2022-12-08T11:06:40.731184Z",
     "start_time": "2022-12-08T11:06:40.705434Z"
    }
   },
   "outputs": [
    {
     "data": {
      "text/plain": [
       "0.5267111786415019"
      ]
     },
     "execution_count": 18,
     "metadata": {},
     "output_type": "execute_result"
    }
   ],
   "source": [
    "stats.norm.cdf(740,711,29) - stats.norm.cdf(697,711,29)"
   ]
  },
  {
   "cell_type": "code",
   "execution_count": 20,
   "id": "aec92fa3",
   "metadata": {
    "ExecuteTime": {
     "end_time": "2022-12-08T11:23:03.468087Z",
     "start_time": "2022-12-08T11:23:03.450429Z"
    }
   },
   "outputs": [],
   "source": [
    "#The stores mean sale is 120 laptops with standard deviation is 30."
   ]
  },
  {
   "cell_type": "code",
   "execution_count": 21,
   "id": "2ffffee0",
   "metadata": {
    "ExecuteTime": {
     "end_time": "2022-12-08T11:23:51.340184Z",
     "start_time": "2022-12-08T11:23:51.331599Z"
    }
   },
   "outputs": [],
   "source": [
    "# P(X ≤ 150)?"
   ]
  },
  {
   "cell_type": "code",
   "execution_count": 23,
   "id": "efc1612f",
   "metadata": {
    "ExecuteTime": {
     "end_time": "2022-12-08T11:24:22.527562Z",
     "start_time": "2022-12-08T11:24:22.511649Z"
    }
   },
   "outputs": [
    {
     "data": {
      "text/plain": [
       "0.8413447460685429"
      ]
     },
     "execution_count": 23,
     "metadata": {},
     "output_type": "execute_result"
    }
   ],
   "source": [
    "stats.norm.cdf(150,120,30)"
   ]
  },
  {
   "cell_type": "code",
   "execution_count": 24,
   "id": "eea56de7",
   "metadata": {
    "ExecuteTime": {
     "end_time": "2022-12-08T11:25:54.667963Z",
     "start_time": "2022-12-08T11:25:54.660414Z"
    }
   },
   "outputs": [],
   "source": [
    "# P(X ≥ 200)?"
   ]
  },
  {
   "cell_type": "code",
   "execution_count": 26,
   "id": "9cdad887",
   "metadata": {
    "ExecuteTime": {
     "end_time": "2022-12-08T11:26:49.188180Z",
     "start_time": "2022-12-08T11:26:49.173871Z"
    }
   },
   "outputs": [
    {
     "data": {
      "text/plain": [
       "0.9961696194324102"
      ]
     },
     "execution_count": 26,
     "metadata": {},
     "output_type": "execute_result"
    }
   ],
   "source": [
    "stats.norm.cdf(200,120,30)"
   ]
  },
  {
   "cell_type": "code",
   "execution_count": 28,
   "id": "3290690b",
   "metadata": {
    "ExecuteTime": {
     "end_time": "2022-12-08T11:27:05.292937Z",
     "start_time": "2022-12-08T11:27:05.276040Z"
    }
   },
   "outputs": [
    {
     "data": {
      "text/plain": [
       "0.003830380567589775"
      ]
     },
     "execution_count": 28,
     "metadata": {},
     "output_type": "execute_result"
    }
   ],
   "source": [
    "1 - stats.norm.cdf(200,120,30)"
   ]
  },
  {
   "cell_type": "code",
   "execution_count": 30,
   "id": "ca67585b",
   "metadata": {
    "ExecuteTime": {
     "end_time": "2022-12-08T11:27:58.745132Z",
     "start_time": "2022-12-08T11:27:58.738656Z"
    }
   },
   "outputs": [],
   "source": [
    "# P(100 ≤ X ≤ 150)?"
   ]
  },
  {
   "cell_type": "code",
   "execution_count": 36,
   "id": "a9da9ca5",
   "metadata": {
    "ExecuteTime": {
     "end_time": "2022-12-08T11:29:55.688016Z",
     "start_time": "2022-12-08T11:29:55.674455Z"
    }
   },
   "outputs": [
    {
     "data": {
      "text/plain": [
       "0.8413447460685429"
      ]
     },
     "execution_count": 36,
     "metadata": {},
     "output_type": "execute_result"
    }
   ],
   "source": [
    "stats.norm.cdf(150,120,30)"
   ]
  },
  {
   "cell_type": "code",
   "execution_count": 34,
   "id": "069cb248",
   "metadata": {
    "ExecuteTime": {
     "end_time": "2022-12-08T11:29:33.424124Z",
     "start_time": "2022-12-08T11:29:33.413457Z"
    }
   },
   "outputs": [
    {
     "data": {
      "text/plain": [
       "0.2524925375469229"
      ]
     },
     "execution_count": 34,
     "metadata": {},
     "output_type": "execute_result"
    }
   ],
   "source": [
    "stats.norm.cdf(100,120,30)"
   ]
  },
  {
   "cell_type": "code",
   "execution_count": 37,
   "id": "45f0b4e9",
   "metadata": {
    "ExecuteTime": {
     "end_time": "2022-12-08T11:29:58.617779Z",
     "start_time": "2022-12-08T11:29:58.604005Z"
    }
   },
   "outputs": [
    {
     "data": {
      "text/plain": [
       "0.58885220852162"
      ]
     },
     "execution_count": 37,
     "metadata": {},
     "output_type": "execute_result"
    }
   ],
   "source": [
    "stats.norm.cdf(150,120,30) - stats.norm.cdf(100,120,30)"
   ]
  },
  {
   "cell_type": "code",
   "execution_count": 39,
   "id": "83d21e8c",
   "metadata": {
    "ExecuteTime": {
     "end_time": "2022-12-08T11:52:11.274532Z",
     "start_time": "2022-12-08T11:52:11.267292Z"
    }
   },
   "outputs": [],
   "source": [
    "#According to the survey, the average weight of child is 70 pounds in US with std 10 pounds"
   ]
  },
  {
   "cell_type": "code",
   "execution_count": 40,
   "id": "cfa43ba4",
   "metadata": {
    "ExecuteTime": {
     "end_time": "2022-12-08T11:52:44.022803Z",
     "start_time": "2022-12-08T11:52:44.004873Z"
    }
   },
   "outputs": [],
   "source": [
    "# P(X ≤ 50)?"
   ]
  },
  {
   "cell_type": "code",
   "execution_count": 41,
   "id": "30fdee2d",
   "metadata": {
    "ExecuteTime": {
     "end_time": "2022-12-08T11:53:14.270481Z",
     "start_time": "2022-12-08T11:53:14.249455Z"
    }
   },
   "outputs": [],
   "source": [
    "mean = 70\n",
    "std = 10\n",
    "x = 50"
   ]
  },
  {
   "cell_type": "code",
   "execution_count": 70,
   "id": "f097ebc1",
   "metadata": {
    "ExecuteTime": {
     "end_time": "2022-12-08T12:16:25.418526Z",
     "start_time": "2022-12-08T12:16:25.398518Z"
    }
   },
   "outputs": [
    {
     "data": {
      "text/plain": [
       "-2.0"
      ]
     },
     "execution_count": 70,
     "metadata": {},
     "output_type": "execute_result"
    }
   ],
   "source": [
    "z = (x-mean)/std\n",
    "z"
   ]
  },
  {
   "cell_type": "code",
   "execution_count": 71,
   "id": "2c5d3cd1",
   "metadata": {
    "ExecuteTime": {
     "end_time": "2022-12-08T12:16:31.411379Z",
     "start_time": "2022-12-08T12:16:31.382134Z"
    }
   },
   "outputs": [
    {
     "data": {
      "text/plain": [
       "0.022750131948179195"
      ]
     },
     "execution_count": 71,
     "metadata": {},
     "output_type": "execute_result"
    }
   ],
   "source": [
    "stats.norm.cdf(-2.0)"
   ]
  },
  {
   "cell_type": "code",
   "execution_count": 46,
   "id": "4f58fdf5",
   "metadata": {
    "ExecuteTime": {
     "end_time": "2022-12-08T11:56:25.451383Z",
     "start_time": "2022-12-08T11:56:25.424850Z"
    }
   },
   "outputs": [],
   "source": [
    "# P(50 ≤ X ≤ 90)?"
   ]
  },
  {
   "cell_type": "code",
   "execution_count": 74,
   "id": "6a6b0d6e",
   "metadata": {
    "ExecuteTime": {
     "end_time": "2022-12-08T12:22:33.723809Z",
     "start_time": "2022-12-08T12:22:33.700579Z"
    }
   },
   "outputs": [
    {
     "data": {
      "text/plain": [
       "0.9772498680518208"
      ]
     },
     "execution_count": 74,
     "metadata": {},
     "output_type": "execute_result"
    }
   ],
   "source": [
    "stats.norm.cdf(90,70,10)"
   ]
  },
  {
   "cell_type": "code",
   "execution_count": 75,
   "id": "21ce1d3f",
   "metadata": {
    "ExecuteTime": {
     "end_time": "2022-12-08T12:22:45.740499Z",
     "start_time": "2022-12-08T12:22:45.718528Z"
    }
   },
   "outputs": [
    {
     "data": {
      "text/plain": [
       "0.022750131948179195"
      ]
     },
     "execution_count": 75,
     "metadata": {},
     "output_type": "execute_result"
    }
   ],
   "source": [
    "stats.norm.cdf(50,70,10)"
   ]
  },
  {
   "cell_type": "code",
   "execution_count": 76,
   "id": "c4464340",
   "metadata": {
    "ExecuteTime": {
     "end_time": "2022-12-08T12:23:10.586254Z",
     "start_time": "2022-12-08T12:23:10.570928Z"
    }
   },
   "outputs": [
    {
     "data": {
      "text/plain": [
       "0.9544997361036416"
      ]
     },
     "execution_count": 76,
     "metadata": {},
     "output_type": "execute_result"
    }
   ],
   "source": [
    "stats.norm.cdf(90,70,10) - stats.norm.cdf(50,70,10)"
   ]
  },
  {
   "cell_type": "code",
   "execution_count": 65,
   "id": "d66fc08b",
   "metadata": {
    "ExecuteTime": {
     "end_time": "2022-12-08T12:04:04.625513Z",
     "start_time": "2022-12-08T12:04:04.615868Z"
    }
   },
   "outputs": [],
   "source": [
    "#  P(X ≥ 100)?"
   ]
  },
  {
   "cell_type": "code",
   "execution_count": 72,
   "id": "8ee30817",
   "metadata": {
    "ExecuteTime": {
     "end_time": "2022-12-08T12:20:53.552896Z",
     "start_time": "2022-12-08T12:20:53.535668Z"
    }
   },
   "outputs": [
    {
     "data": {
      "text/plain": [
       "0.9986501019683699"
      ]
     },
     "execution_count": 72,
     "metadata": {},
     "output_type": "execute_result"
    }
   ],
   "source": [
    "stats.norm.cdf(100,70,10)"
   ]
  },
  {
   "cell_type": "code",
   "execution_count": 73,
   "id": "d21a2502",
   "metadata": {
    "ExecuteTime": {
     "end_time": "2022-12-08T12:21:08.632648Z",
     "start_time": "2022-12-08T12:21:08.617327Z"
    }
   },
   "outputs": [
    {
     "data": {
      "text/plain": [
       "0.0013498980316301035"
      ]
     },
     "execution_count": 73,
     "metadata": {},
     "output_type": "execute_result"
    }
   ],
   "source": [
    "1 - stats.norm.cdf(100,70,10)"
   ]
  }
 ],
 "metadata": {
  "kernelspec": {
   "display_name": "Python 3 (ipykernel)",
   "language": "python",
   "name": "python3"
  },
  "language_info": {
   "codemirror_mode": {
    "name": "ipython",
    "version": 3
   },
   "file_extension": ".py",
   "mimetype": "text/x-python",
   "name": "python",
   "nbconvert_exporter": "python",
   "pygments_lexer": "ipython3",
   "version": "3.9.13"
  }
 },
 "nbformat": 4,
 "nbformat_minor": 5
}
